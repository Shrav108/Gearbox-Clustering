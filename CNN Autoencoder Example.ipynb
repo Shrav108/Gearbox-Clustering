{
 "cells": [
  {
   "cell_type": "code",
   "execution_count": 1,
   "id": "0b2a4b0c",
   "metadata": {},
   "outputs": [],
   "source": [
    "import numpy as np\n",
    "import pandas as pd\n",
    "from numpy import array\n",
    "import matplotlib.pyplot as plt\n",
    "# from tensorflow.keras.models import Sequential\n",
    "# from tensorflow.keras.layers import LSTM\n",
    "# from tensorflow.keras.layers import Dense\n",
    "# from tensorflow.keras.layers import RepeatVector\n",
    "# from tensorflow.keras.layers import TimeDistributed\n",
    "# from tensorflow.keras.utils import plot_model\n",
    "# import tensorflow as tf\n",
    "from sklearn.preprocessing import StandardScaler as SS"
   ]
  },
  {
   "cell_type": "code",
   "execution_count": 2,
   "id": "54920fa5",
   "metadata": {},
   "outputs": [
    {
     "data": {
      "text/html": [
       "<div>\n",
       "<style scoped>\n",
       "    .dataframe tbody tr th:only-of-type {\n",
       "        vertical-align: middle;\n",
       "    }\n",
       "\n",
       "    .dataframe tbody tr th {\n",
       "        vertical-align: top;\n",
       "    }\n",
       "\n",
       "    .dataframe thead th {\n",
       "        text-align: right;\n",
       "    }\n",
       "</style>\n",
       "<table border=\"1\" class=\"dataframe\">\n",
       "  <thead>\n",
       "    <tr style=\"text-align: right;\">\n",
       "      <th></th>\n",
       "      <th>0</th>\n",
       "      <th>1</th>\n",
       "      <th>2</th>\n",
       "    </tr>\n",
       "  </thead>\n",
       "  <tbody>\n",
       "    <tr>\n",
       "      <th>0</th>\n",
       "      <td>0.012054</td>\n",
       "      <td>0.003204</td>\n",
       "      <td>4.9133</td>\n",
       "    </tr>\n",
       "    <tr>\n",
       "      <th>1</th>\n",
       "      <td>0.010071</td>\n",
       "      <td>0.005188</td>\n",
       "      <td>4.9097</td>\n",
       "    </tr>\n",
       "    <tr>\n",
       "      <th>2</th>\n",
       "      <td>0.014954</td>\n",
       "      <td>0.004883</td>\n",
       "      <td>4.9158</td>\n",
       "    </tr>\n",
       "    <tr>\n",
       "      <th>3</th>\n",
       "      <td>0.014496</td>\n",
       "      <td>0.005798</td>\n",
       "      <td>4.9158</td>\n",
       "    </tr>\n",
       "    <tr>\n",
       "      <th>4</th>\n",
       "      <td>0.018005</td>\n",
       "      <td>0.003815</td>\n",
       "      <td>4.9243</td>\n",
       "    </tr>\n",
       "  </tbody>\n",
       "</table>\n",
       "</div>"
      ],
      "text/plain": [
       "          0         1       2\n",
       "0  0.012054  0.003204  4.9133\n",
       "1  0.010071  0.005188  4.9097\n",
       "2  0.014954  0.004883  4.9158\n",
       "3  0.014496  0.005798  4.9158\n",
       "4  0.018005  0.003815  4.9243"
      ]
     },
     "execution_count": 2,
     "metadata": {},
     "output_type": "execute_result"
    }
   ],
   "source": [
    "df = pd.read_csv('Gearbox Dataset/Run_1.csv', header=None)\n",
    "df.head()"
   ]
  },
  {
   "cell_type": "code",
   "execution_count": 3,
   "id": "512c70c9",
   "metadata": {},
   "outputs": [
    {
     "name": "stdout",
     "output_type": "stream",
     "text": [
      "(10000, 1)\n"
     ]
    }
   ],
   "source": [
    "# define input sequence\n",
    "sequence = df[[0]][0:10000]\n",
    "print(sequence.shape)"
   ]
  },
  {
   "cell_type": "code",
   "execution_count": 4,
   "id": "2bd24c01",
   "metadata": {},
   "outputs": [],
   "source": [
    "train_length = int(len(sequence)*0.90)\n",
    "train, test = sequence[0:train_length], sequence[train_length:]"
   ]
  },
  {
   "cell_type": "code",
   "execution_count": 5,
   "id": "18e1b80b",
   "metadata": {},
   "outputs": [
    {
     "name": "stdout",
     "output_type": "stream",
     "text": [
      "(9000, 1) (1000, 1)\n"
     ]
    }
   ],
   "source": [
    "print(train.shape, test.shape)"
   ]
  },
  {
   "cell_type": "code",
   "execution_count": 6,
   "id": "db017c7e",
   "metadata": {},
   "outputs": [],
   "source": [
    "scaler = SS()\n",
    "scaler = scaler.fit(train)\n",
    "train = scaler.transform(train)\n",
    "test = scaler.transform(test)"
   ]
  },
  {
   "cell_type": "code",
   "execution_count": 7,
   "id": "2a87ea32",
   "metadata": {},
   "outputs": [],
   "source": [
    "seq_size = 100"
   ]
  },
  {
   "cell_type": "code",
   "execution_count": 8,
   "id": "06b610f8",
   "metadata": {},
   "outputs": [],
   "source": [
    "def to_sequence(x,y,seq_size=1):\n",
    "    x_vs = []\n",
    "    y_vs = []\n",
    "    for i in range(len(x)-seq_size):\n",
    "        x_vs.append(x[i:i+seq_size])\n",
    "        y_vs.append(y[i+seq_size])\n",
    "    \n",
    "    return np.array(x_vs), np.array(y_vs)"
   ]
  },
  {
   "cell_type": "code",
   "execution_count": null,
   "id": "72da4d06",
   "metadata": {},
   "outputs": [],
   "source": []
  },
  {
   "cell_type": "code",
   "execution_count": 9,
   "id": "990719b8",
   "metadata": {},
   "outputs": [],
   "source": [
    "trainX, trainY = to_sequence(train, train, seq_size)"
   ]
  },
  {
   "cell_type": "code",
   "execution_count": 10,
   "id": "61170f96",
   "metadata": {},
   "outputs": [],
   "source": [
    "testX, testY = to_sequence(test, test, seq_size)"
   ]
  },
  {
   "cell_type": "code",
   "execution_count": 11,
   "id": "7c6ba7bf",
   "metadata": {},
   "outputs": [
    {
     "data": {
      "text/plain": [
       "(8900, 100, 1)"
      ]
     },
     "execution_count": 11,
     "metadata": {},
     "output_type": "execute_result"
    }
   ],
   "source": [
    "trainX.shape"
   ]
  },
  {
   "cell_type": "markdown",
   "id": "74aa5d9e",
   "metadata": {},
   "source": [
    "## ---------------------------------------------------------------------------------------------------------------------"
   ]
  },
  {
   "cell_type": "code",
   "execution_count": 168,
   "id": "aa62cfe5",
   "metadata": {},
   "outputs": [],
   "source": [
    "input_layer = tf.keras.layers.Input(shape=(trainX.shape[1], trainX.shape[2]))\n",
    "encode_1    = tf.keras.layers.Conv1D(filters=32, kernel_size=7, padding=\"same\", strides=2, activation=\"relu\")(input_layer)\n",
    "dropout_1   = tf.keras.layers.Dropout(rate=0.2)(encode_1)\n",
    "encode_2    = tf.keras.layers.Conv1D(filters=16, kernel_size=7, padding=\"same\", strides=2, activation=\"relu\")(dropout_1)\n",
    "\n",
    "decode_1    = tf.keras.layers.Conv1DTranspose(filters=16, kernel_size=7, padding=\"same\", strides=2, activation=\"relu\")(encode_2)\n",
    "dropout_2   = tf.keras.layers.Dropout(rate=0.2)(decode_1)\n",
    "decode_2    = tf.keras.layers.Conv1DTranspose(filters=32, kernel_size=7, padding=\"same\", strides=2, activation=\"relu\")(dropout_2)\n",
    "reconstruct = tf.keras.layers.Conv1DTranspose(filters=1, kernel_size=7, padding=\"same\")(decode_2)\n",
    "coded = tf.keras.layers.Conv1D(filters=1, kernel_size=7, padding=\"same\", name='Code')(encode_2)\n",
    "model_f = tf.keras.Model(inputs=input_layer, outputs=reconstruct)"
   ]
  },
  {
   "cell_type": "code",
   "execution_count": 169,
   "id": "bc57b64b",
   "metadata": {},
   "outputs": [
    {
     "name": "stdout",
     "output_type": "stream",
     "text": [
      "Model: \"model_4\"\n",
      "_________________________________________________________________\n",
      "Layer (type)                 Output Shape              Param #   \n",
      "=================================================================\n",
      "input_11 (InputLayer)        [(None, 100, 1)]          0         \n",
      "_________________________________________________________________\n",
      "conv1d_22 (Conv1D)           (None, 50, 32)            256       \n",
      "_________________________________________________________________\n",
      "dropout_28 (Dropout)         (None, 50, 32)            0         \n",
      "_________________________________________________________________\n",
      "conv1d_23 (Conv1D)           (None, 25, 16)            3600      \n",
      "_________________________________________________________________\n",
      "conv1d_transpose_23 (Conv1DT (None, 50, 16)            1808      \n",
      "_________________________________________________________________\n",
      "dropout_29 (Dropout)         (None, 50, 16)            0         \n",
      "_________________________________________________________________\n",
      "conv1d_transpose_24 (Conv1DT (None, 100, 32)           3616      \n",
      "_________________________________________________________________\n",
      "conv1d_transpose_25 (Conv1DT (None, 100, 1)            225       \n",
      "=================================================================\n",
      "Total params: 9,505\n",
      "Trainable params: 9,505\n",
      "Non-trainable params: 0\n",
      "_________________________________________________________________\n"
     ]
    }
   ],
   "source": [
    "model_f.compile(optimizer=tf.keras.optimizers.Adam(learning_rate=0.001), loss=\"mse\")\n",
    "plot_model(model_f, to_file='model.png', show_shapes=True, show_dtype=True)\n",
    "model_f.summary()"
   ]
  },
  {
   "cell_type": "code",
   "execution_count": 170,
   "id": "68fe0ee6",
   "metadata": {},
   "outputs": [
    {
     "name": "stdout",
     "output_type": "stream",
     "text": [
      "Model: \"model_5\"\n",
      "_________________________________________________________________\n",
      "Layer (type)                 Output Shape              Param #   \n",
      "=================================================================\n",
      "input_11 (InputLayer)        [(None, 100, 1)]          0         \n",
      "_________________________________________________________________\n",
      "conv1d_22 (Conv1D)           (None, 50, 32)            256       \n",
      "_________________________________________________________________\n",
      "dropout_28 (Dropout)         (None, 50, 32)            0         \n",
      "_________________________________________________________________\n",
      "conv1d_23 (Conv1D)           (None, 25, 16)            3600      \n",
      "_________________________________________________________________\n",
      "Code (Conv1D)                (None, 25, 1)             113       \n",
      "=================================================================\n",
      "Total params: 3,969\n",
      "Trainable params: 3,969\n",
      "Non-trainable params: 0\n",
      "_________________________________________________________________\n"
     ]
    }
   ],
   "source": [
    "encoder = tf.keras.Model(inputs=input_layer, outputs=coded)\n",
    "encoder.summary()"
   ]
  },
  {
   "cell_type": "code",
   "execution_count": 171,
   "id": "a1e3a6cd",
   "metadata": {},
   "outputs": [
    {
     "name": "stdout",
     "output_type": "stream",
     "text": [
      "Epoch 1/10\n",
      "251/251 [==============================] - 16s 36ms/step - loss: 0.2627 - val_loss: 0.0443\n",
      "Epoch 2/10\n",
      "251/251 [==============================] - 5s 21ms/step - loss: 0.1076 - val_loss: 0.0276\n",
      "Epoch 3/10\n",
      "251/251 [==============================] - 5s 21ms/step - loss: 0.0882 - val_loss: 0.0219\n",
      "Epoch 4/10\n",
      "251/251 [==============================] - 5s 20ms/step - loss: 0.0738 - val_loss: 0.0245\n",
      "Epoch 5/10\n",
      "251/251 [==============================] - 5s 19ms/step - loss: 0.0627 - val_loss: 0.0316\n",
      "Epoch 6/10\n",
      "251/251 [==============================] - 5s 20ms/step - loss: 0.0553 - val_loss: 0.0371\n",
      "Epoch 7/10\n",
      "251/251 [==============================] - 5s 20ms/step - loss: 0.0506 - val_loss: 0.0325\n",
      "Epoch 8/10\n",
      "251/251 [==============================] - 5s 19ms/step - loss: 0.0472 - val_loss: 0.0356\n",
      "Epoch 9/10\n",
      "251/251 [==============================] - 5s 21ms/step - loss: 0.0442 - val_loss: 0.0347\n",
      "Epoch 10/10\n",
      "251/251 [==============================] - 5s 21ms/step - loss: 0.0423 - val_loss: 0.0351\n"
     ]
    },
    {
     "data": {
      "text/plain": [
       "<tensorflow.python.keras.callbacks.History at 0xdd7b184340>"
      ]
     },
     "execution_count": 171,
     "metadata": {},
     "output_type": "execute_result"
    }
   ],
   "source": [
    "model_f.fit(trainX, trainX, batch_size=32, validation_split = 0.1, epochs=10, verbose=1, shuffle=False)"
   ]
  },
  {
   "cell_type": "code",
   "execution_count": 175,
   "id": "83a6a325",
   "metadata": {},
   "outputs": [],
   "source": [
    "enc = encoder.predict(yy)"
   ]
  },
  {
   "cell_type": "code",
   "execution_count": 178,
   "id": "cba63d38",
   "metadata": {},
   "outputs": [
    {
     "data": {
      "text/plain": [
       "[<matplotlib.lines.Line2D at 0xdd735dcac0>]"
      ]
     },
     "execution_count": 178,
     "metadata": {},
     "output_type": "execute_result"
    },
    {
     "data": {
      "image/png": "[encoded data removed]",
      "text/plain": [
       "<Figure size 432x288 with 1 Axes>"
      ]
     },
     "metadata": {
      "needs_background": "light"
     },
     "output_type": "display_data"
    }
   ],
   "source": [
    "plt.plot(enc[0])"
   ]
  },
  {
   "cell_type": "code",
   "execution_count": 179,
   "id": "84379c85",
   "metadata": {},
   "outputs": [
    {
     "name": "stdout",
     "output_type": "stream",
     "text": [
      "1/1 [==============================] - 2s 2s/step\n"
     ]
    }
   ],
   "source": [
    "yyy = model_f.predict(yy, verbose=1)"
   ]
  },
  {
   "cell_type": "code",
   "execution_count": 181,
   "id": "5948a170",
   "metadata": {},
   "outputs": [
    {
     "data": {
      "text/plain": [
       "[<matplotlib.lines.Line2D at 0xdd71734040>]"
      ]
     },
     "execution_count": 181,
     "metadata": {},
     "output_type": "execute_result"
    },
    {
     "data": {
      "image/png": "[encoded data removed]",
      "text/plain": [
       "<Figure size 432x288 with 1 Axes>"
      ]
     },
     "metadata": {
      "needs_background": "light"
     },
     "output_type": "display_data"
    }
   ],
   "source": [
    "plt.plot(yy[0])\n",
    "plt.plot(yyy[0])"
   ]
  },
  {
   "cell_type": "code",
   "execution_count": null,
   "id": "659157a9",
   "metadata": {},
   "outputs": [],
   "source": []
  }
 ],
 "metadata": {
  "kernelspec": {
   "display_name": "Python 3 (ipykernel)",
   "language": "python",
   "name": "python3"
  },
  "language_info": {
   "codemirror_mode": {
    "name": "ipython",
    "version": 3
   },
   "file_extension": ".py",
   "mimetype": "text/x-python",
   "name": "python",
   "nbconvert_exporter": "python",
   "pygments_lexer": "ipython3",
   "version": "3.8.11"
  }
 },
 "nbformat": 4,
 "nbformat_minor": 5
}
